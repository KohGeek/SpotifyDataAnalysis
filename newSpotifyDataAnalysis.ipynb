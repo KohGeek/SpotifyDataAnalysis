{
 "cells": [
  {
   "cell_type": "markdown",
   "metadata": {},
   "source": [
    "# Table of Contents\n",
    "1. [Importing Libraries](#importing-libraries)\n",
    "2. [Data Description](#data-description)\n",
    "    * [Multiple Genres](#multiple-genres)\n",
    "3. [Data Preprocessing](#data-cleaning)\n",
    "4. [Data Modelling](#data-modelling)"
   ]
  },
  {
   "cell_type": "markdown",
   "metadata": {},
   "source": [
    "## Importing Libraries <a class=\"anchor\" id=\"importing-libraries\"></a>\n",
    "\n",
    "Here, we import all the necessary libraries for our work."
   ]
  },
  {
   "cell_type": "code",
   "execution_count": 47,
   "metadata": {},
   "outputs": [],
   "source": [
    "import pandas as pd\n",
    "import numpy as np\n",
    "import matplotlib.pyplot as plt\n",
    "import seaborn as sns\n",
    "\n",
    "from sklearn.preprocessing import MinMaxScaler\n",
    "from sklearn.model_selection import train_test_split\n",
    "from sklearn.metrics import accuracy_score, confusion_matrix, classification_report\n",
    "from sklearn.ensemble import RandomForestClassifier\n",
    "from sklearn.model_selection import GridSearchCV"
   ]
  },
  {
   "cell_type": "markdown",
   "metadata": {},
   "source": [
    "## Data Description <a class=\"anchor\" id=\"data-description\"></a>\n",
    "\n",
    "First, the data is loaded and basic information about the data is displayed."
   ]
  },
  {
   "cell_type": "code",
   "execution_count": 48,
   "metadata": {},
   "outputs": [
    {
     "data": {
      "text/html": [
       "<div>\n",
       "<style scoped>\n",
       "    .dataframe tbody tr th:only-of-type {\n",
       "        vertical-align: middle;\n",
       "    }\n",
       "\n",
       "    .dataframe tbody tr th {\n",
       "        vertical-align: top;\n",
       "    }\n",
       "\n",
       "    .dataframe thead th {\n",
       "        text-align: right;\n",
       "    }\n",
       "</style>\n",
       "<table border=\"1\" class=\"dataframe\">\n",
       "  <thead>\n",
       "    <tr style=\"text-align: right;\">\n",
       "      <th></th>\n",
       "      <th>track_id</th>\n",
       "      <th>artists</th>\n",
       "      <th>album_name</th>\n",
       "      <th>track_name</th>\n",
       "      <th>popularity</th>\n",
       "      <th>duration_ms</th>\n",
       "      <th>explicit</th>\n",
       "      <th>danceability</th>\n",
       "      <th>energy</th>\n",
       "      <th>key</th>\n",
       "      <th>loudness</th>\n",
       "      <th>mode</th>\n",
       "      <th>speechiness</th>\n",
       "      <th>acousticness</th>\n",
       "      <th>instrumentalness</th>\n",
       "      <th>liveness</th>\n",
       "      <th>valence</th>\n",
       "      <th>tempo</th>\n",
       "      <th>time_signature</th>\n",
       "      <th>track_genre</th>\n",
       "    </tr>\n",
       "  </thead>\n",
       "  <tbody>\n",
       "    <tr>\n",
       "      <th>0</th>\n",
       "      <td>5SuOikwiRyPMVoIQDJUgSV</td>\n",
       "      <td>Gen Hoshino</td>\n",
       "      <td>Comedy</td>\n",
       "      <td>Comedy</td>\n",
       "      <td>73</td>\n",
       "      <td>230666</td>\n",
       "      <td>False</td>\n",
       "      <td>0.676</td>\n",
       "      <td>0.4610</td>\n",
       "      <td>1</td>\n",
       "      <td>-6.746</td>\n",
       "      <td>0</td>\n",
       "      <td>0.1430</td>\n",
       "      <td>0.0322</td>\n",
       "      <td>0.000001</td>\n",
       "      <td>0.3580</td>\n",
       "      <td>0.715</td>\n",
       "      <td>87.917</td>\n",
       "      <td>4</td>\n",
       "      <td>acoustic</td>\n",
       "    </tr>\n",
       "    <tr>\n",
       "      <th>1</th>\n",
       "      <td>4qPNDBW1i3p13qLCt0Ki3A</td>\n",
       "      <td>Ben Woodward</td>\n",
       "      <td>Ghost (Acoustic)</td>\n",
       "      <td>Ghost - Acoustic</td>\n",
       "      <td>55</td>\n",
       "      <td>149610</td>\n",
       "      <td>False</td>\n",
       "      <td>0.420</td>\n",
       "      <td>0.1660</td>\n",
       "      <td>1</td>\n",
       "      <td>-17.235</td>\n",
       "      <td>1</td>\n",
       "      <td>0.0763</td>\n",
       "      <td>0.9240</td>\n",
       "      <td>0.000006</td>\n",
       "      <td>0.1010</td>\n",
       "      <td>0.267</td>\n",
       "      <td>77.489</td>\n",
       "      <td>4</td>\n",
       "      <td>acoustic</td>\n",
       "    </tr>\n",
       "    <tr>\n",
       "      <th>2</th>\n",
       "      <td>1iJBSr7s7jYXzM8EGcbK5b</td>\n",
       "      <td>Ingrid Michaelson;ZAYN</td>\n",
       "      <td>To Begin Again</td>\n",
       "      <td>To Begin Again</td>\n",
       "      <td>57</td>\n",
       "      <td>210826</td>\n",
       "      <td>False</td>\n",
       "      <td>0.438</td>\n",
       "      <td>0.3590</td>\n",
       "      <td>0</td>\n",
       "      <td>-9.734</td>\n",
       "      <td>1</td>\n",
       "      <td>0.0557</td>\n",
       "      <td>0.2100</td>\n",
       "      <td>0.000000</td>\n",
       "      <td>0.1170</td>\n",
       "      <td>0.120</td>\n",
       "      <td>76.332</td>\n",
       "      <td>4</td>\n",
       "      <td>acoustic</td>\n",
       "    </tr>\n",
       "    <tr>\n",
       "      <th>3</th>\n",
       "      <td>6lfxq3CG4xtTiEg7opyCyx</td>\n",
       "      <td>Kina Grannis</td>\n",
       "      <td>Crazy Rich Asians (Original Motion Picture Sou...</td>\n",
       "      <td>Can't Help Falling In Love</td>\n",
       "      <td>71</td>\n",
       "      <td>201933</td>\n",
       "      <td>False</td>\n",
       "      <td>0.266</td>\n",
       "      <td>0.0596</td>\n",
       "      <td>0</td>\n",
       "      <td>-18.515</td>\n",
       "      <td>1</td>\n",
       "      <td>0.0363</td>\n",
       "      <td>0.9050</td>\n",
       "      <td>0.000071</td>\n",
       "      <td>0.1320</td>\n",
       "      <td>0.143</td>\n",
       "      <td>181.740</td>\n",
       "      <td>3</td>\n",
       "      <td>acoustic</td>\n",
       "    </tr>\n",
       "    <tr>\n",
       "      <th>4</th>\n",
       "      <td>5vjLSffimiIP26QG5WcN2K</td>\n",
       "      <td>Chord Overstreet</td>\n",
       "      <td>Hold On</td>\n",
       "      <td>Hold On</td>\n",
       "      <td>82</td>\n",
       "      <td>198853</td>\n",
       "      <td>False</td>\n",
       "      <td>0.618</td>\n",
       "      <td>0.4430</td>\n",
       "      <td>2</td>\n",
       "      <td>-9.681</td>\n",
       "      <td>1</td>\n",
       "      <td>0.0526</td>\n",
       "      <td>0.4690</td>\n",
       "      <td>0.000000</td>\n",
       "      <td>0.0829</td>\n",
       "      <td>0.167</td>\n",
       "      <td>119.949</td>\n",
       "      <td>4</td>\n",
       "      <td>acoustic</td>\n",
       "    </tr>\n",
       "  </tbody>\n",
       "</table>\n",
       "</div>"
      ],
      "text/plain": [
       "                 track_id                 artists  \\\n",
       "0  5SuOikwiRyPMVoIQDJUgSV             Gen Hoshino   \n",
       "1  4qPNDBW1i3p13qLCt0Ki3A            Ben Woodward   \n",
       "2  1iJBSr7s7jYXzM8EGcbK5b  Ingrid Michaelson;ZAYN   \n",
       "3  6lfxq3CG4xtTiEg7opyCyx            Kina Grannis   \n",
       "4  5vjLSffimiIP26QG5WcN2K        Chord Overstreet   \n",
       "\n",
       "                                          album_name  \\\n",
       "0                                             Comedy   \n",
       "1                                   Ghost (Acoustic)   \n",
       "2                                     To Begin Again   \n",
       "3  Crazy Rich Asians (Original Motion Picture Sou...   \n",
       "4                                            Hold On   \n",
       "\n",
       "                   track_name  popularity  duration_ms  explicit  \\\n",
       "0                      Comedy          73       230666     False   \n",
       "1            Ghost - Acoustic          55       149610     False   \n",
       "2              To Begin Again          57       210826     False   \n",
       "3  Can't Help Falling In Love          71       201933     False   \n",
       "4                     Hold On          82       198853     False   \n",
       "\n",
       "   danceability  energy  key  loudness  mode  speechiness  acousticness  \\\n",
       "0         0.676  0.4610    1    -6.746     0       0.1430        0.0322   \n",
       "1         0.420  0.1660    1   -17.235     1       0.0763        0.9240   \n",
       "2         0.438  0.3590    0    -9.734     1       0.0557        0.2100   \n",
       "3         0.266  0.0596    0   -18.515     1       0.0363        0.9050   \n",
       "4         0.618  0.4430    2    -9.681     1       0.0526        0.4690   \n",
       "\n",
       "   instrumentalness  liveness  valence    tempo  time_signature track_genre  \n",
       "0          0.000001    0.3580    0.715   87.917               4    acoustic  \n",
       "1          0.000006    0.1010    0.267   77.489               4    acoustic  \n",
       "2          0.000000    0.1170    0.120   76.332               4    acoustic  \n",
       "3          0.000071    0.1320    0.143  181.740               3    acoustic  \n",
       "4          0.000000    0.0829    0.167  119.949               4    acoustic  "
      ]
     },
     "execution_count": 48,
     "metadata": {},
     "output_type": "execute_result"
    }
   ],
   "source": [
    "tracks = pd.read_csv('csvs/dataset.csv', index_col=0)\n",
    "\n",
    "tracks.head()"
   ]
  },
  {
   "cell_type": "markdown",
   "metadata": {},
   "source": [
    "Our goal is to identify and predict the genres of the song, so we try display and see how many genres are there in the dataset."
   ]
  },
  {
   "cell_type": "code",
   "execution_count": 49,
   "metadata": {},
   "outputs": [
    {
     "name": "stdout",
     "output_type": "stream",
     "text": [
      "Number of genres: 114\n"
     ]
    },
    {
     "data": {
      "text/plain": [
       "track_genre\n",
       "acoustic             1000\n",
       "punk-rock            1000\n",
       "progressive-house    1000\n",
       "power-pop            1000\n",
       "pop                  1000\n",
       "                     ... \n",
       "folk                 1000\n",
       "emo                  1000\n",
       "electronic           1000\n",
       "electro              1000\n",
       "world-music          1000\n",
       "Name: count, Length: 114, dtype: int64"
      ]
     },
     "execution_count": 49,
     "metadata": {},
     "output_type": "execute_result"
    }
   ],
   "source": [
    "print('Number of genres: {}'.format(tracks.track_genre.nunique()))\n",
    "\n",
    "# Get a count of all genre\n",
    "tracks.track_genre.value_counts()"
   ]
  },
  {
   "cell_type": "markdown",
   "metadata": {},
   "source": [
    "### Multiple Genres <a class=\"anchor\" id=\"multiple-genres\"></a>\n",
    " \n",
    "We discover that some song may have multiple genres. To improve our modelling, we will be using tracks with one genre only. "
   ]
  },
  {
   "cell_type": "code",
   "execution_count": 50,
   "metadata": {},
   "outputs": [
    {
     "data": {
      "text/plain": [
       "track_genre\n",
       "study          996\n",
       "tango          991\n",
       "comedy         987\n",
       "grindcore      984\n",
       "honky-tonk     974\n",
       "              ... \n",
       "house          118\n",
       "indie           94\n",
       "alternative     87\n",
       "reggae          78\n",
       "reggaeton       66\n",
       "Name: count, Length: 112, dtype: int64"
      ]
     },
     "execution_count": 50,
     "metadata": {},
     "output_type": "execute_result"
    }
   ],
   "source": [
    "# Sort by popularity first, so when we drop duplicate we drop lower popularity\n",
    "# Drop duplicate if track_name, duration_ms, artists and track_genre are all the same\n",
    "tracks.sort_values(by=['popularity'],ascending=False,inplace=True)\n",
    "tracks.drop_duplicates(subset=['track_name','duration_ms','artists','track_genre'],inplace=True)\n",
    "\n",
    "# If track_name, duration_ms and artists are same, but genre is different, aggregate the genre\n",
    "tracks = tracks.groupby(['track_name','duration_ms','artists'],as_index=False).agg({'track_genre':lambda x: ','.join(x),\n",
    "                                                                                                  'album_name': 'first',\n",
    "                                                                                                  'track_id': 'first',\n",
    "                                                                                                  'popularity': 'max',\n",
    "                                                                                                  'explicit': 'first',\n",
    "                                                                                                  'danceability': 'first',\n",
    "                                                                                                  'energy': 'first',\n",
    "                                                                                                  'loudness': 'first',\n",
    "                                                                                                  'speechiness': 'first',\n",
    "                                                                                                  'acousticness': 'first',\n",
    "                                                                                                  'instrumentalness': 'first',\n",
    "                                                                                                  'liveness': 'first',\n",
    "                                                                                                  'valence': 'first',\n",
    "                                                                                                  'tempo': 'first',\n",
    "                                                                                                  'key': 'first',\n",
    "                                                                                                  'mode': 'first'})\n",
    "\n",
    "\n",
    "# Remove all tracks with more than one genre\n",
    "tracks = tracks[tracks['track_genre'].str.contains(',') == False]\n",
    "tracks.track_genre.value_counts()"
   ]
  },
  {
   "cell_type": "markdown",
   "metadata": {},
   "source": [
    "Additionally, any genre with less than 500 tracks does not constitute enough training and test sample, and will be removed from the dataset."
   ]
  },
  {
   "cell_type": "code",
   "execution_count": 51,
   "metadata": {},
   "outputs": [
    {
     "data": {
      "text/plain": [
       "track_genre\n",
       "study         996\n",
       "tango         991\n",
       "comedy        987\n",
       "grindcore     984\n",
       "honky-tonk    974\n",
       "             ... \n",
       "emo           533\n",
       "german        532\n",
       "country       522\n",
       "psych-rock    521\n",
       "groove        510\n",
       "Name: count, Length: 78, dtype: int64"
      ]
     },
     "execution_count": 51,
     "metadata": {},
     "output_type": "execute_result"
    }
   ],
   "source": [
    "# Remove all genres with less than 500 tracks, maintain all columns\n",
    "tracks = tracks.groupby('track_genre').filter(lambda x: len(x) > 500)\n",
    "tracks.track_genre.value_counts()"
   ]
  },
  {
   "cell_type": "markdown",
   "metadata": {},
   "source": [
    "## Data Preprocessing <a class=\"anchor\" id=\"data-cleaning\"></a>\n",
    "\n",
    "We start off with basic data cleaning, removing null data and removing unnecessary columns according to our EDA."
   ]
  },
  {
   "cell_type": "code",
   "execution_count": 52,
   "metadata": {},
   "outputs": [],
   "source": [
    "# Drop the row where track_name = null\n",
    "tracks.drop(tracks.index[tracks['track_name'].isnull()], inplace=True)"
   ]
  },
  {
   "cell_type": "markdown",
   "metadata": {},
   "source": [
    "To make our modelling easier, we will limit our selection to a hand selected few genres. As much as the top 10 genre present an interesting opportunity, a cursory glance at the data shows that the top 10 genres are not very distinct from each other. Hence, we will select a few genres that are more significantly distinct from one another."
   ]
  },
  {
   "cell_type": "code",
   "execution_count": 53,
   "metadata": {},
   "outputs": [
    {
     "data": {
      "text/plain": [
       "track_genre\n",
       "k-pop             59.071334\n",
       "pop-film          56.744038\n",
       "chill             56.228319\n",
       "sad               52.147114\n",
       "piano             50.342262\n",
       "                    ...    \n",
       "grindcore         14.520325\n",
       "chicago-house     12.174381\n",
       "detroit-techno    11.007487\n",
       "romance            3.562077\n",
       "iranian            2.245868\n",
       "Name: popularity, Length: 78, dtype: float64"
      ]
     },
     "execution_count": 53,
     "metadata": {},
     "output_type": "execute_result"
    }
   ],
   "source": [
    "genre_popularity = tracks.groupby('track_genre')['popularity'].mean()\n",
    "genre_popularity.sort_values(ascending=False)\n",
    "\n",
    "# What is the difference between pop-film, k-pop, pop? \n",
    "# And what is the difference between sad and emo?"
   ]
  },
  {
   "cell_type": "markdown",
   "metadata": {},
   "source": [
    "We choose the following genre for our modelling, and remove the rest of the genres from the dataset.\n",
    "- Country\n",
    "- Chill\n",
    "- K-Pop\n",
    "- Club\n",
    "- Rock-n-Roll\n",
    "- Classical\n",
    "- Sleep\n",
    "- Electronic\n",
    "- Ambient\n",
    "- Opera"
   ]
  },
  {
   "cell_type": "code",
   "execution_count": 54,
   "metadata": {},
   "outputs": [],
   "source": [
    "# Retain only the genres listed above\n",
    "tracks = tracks[tracks['track_genre'].isin(['country', 'chill', 'k-pop', 'club', 'rock-n-roll', 'classical', 'sleep', 'electronic', 'ambient', 'opera'])]"
   ]
  },
  {
   "cell_type": "markdown",
   "metadata": {},
   "source": [
    "We will also remove Track ID from our dataset as the ID is randomly generated data. Additionally, track name, artist name and album name will be removed as well. These three category are too diverse and will be hard to generalize, even if they provide very useful information. \n",
    "\n",
    "We will also drop the track key, as it will present too many dimension for our model to handle."
   ]
  },
  {
   "cell_type": "code",
   "execution_count": 55,
   "metadata": {},
   "outputs": [],
   "source": [
    "# Drop the track_id column\n",
    "tracks.drop('track_id', axis=1, inplace=True)\n",
    "\n",
    "# Drop the track_name, artists, album_name columns\n",
    "tracks.drop(['track_name', 'artists', 'album_name'], axis=1, inplace=True)\n",
    "\n",
    "# Drop the key column\n",
    "tracks.drop('key', axis=1, inplace=True)"
   ]
  },
  {
   "cell_type": "markdown",
   "metadata": {},
   "source": [
    "Next, we will discretize both loudness, tempo and duration_ms into 10 bins each. The exact value of these columns are not important, but their rough bins will help better inform the model.\n",
    "\n",
    "We will also normalise the popularity columns, as they are on a different scale from the rest of the data."
   ]
  },
  {
   "cell_type": "code",
   "execution_count": 56,
   "metadata": {},
   "outputs": [
    {
     "data": {
      "text/html": [
       "<div>\n",
       "<style scoped>\n",
       "    .dataframe tbody tr th:only-of-type {\n",
       "        vertical-align: middle;\n",
       "    }\n",
       "\n",
       "    .dataframe tbody tr th {\n",
       "        vertical-align: top;\n",
       "    }\n",
       "\n",
       "    .dataframe thead th {\n",
       "        text-align: right;\n",
       "    }\n",
       "</style>\n",
       "<table border=\"1\" class=\"dataframe\">\n",
       "  <thead>\n",
       "    <tr style=\"text-align: right;\">\n",
       "      <th></th>\n",
       "      <th>duration_ms</th>\n",
       "      <th>popularity</th>\n",
       "      <th>danceability</th>\n",
       "      <th>energy</th>\n",
       "      <th>loudness</th>\n",
       "      <th>speechiness</th>\n",
       "      <th>acousticness</th>\n",
       "      <th>instrumentalness</th>\n",
       "      <th>liveness</th>\n",
       "      <th>valence</th>\n",
       "      <th>tempo</th>\n",
       "      <th>mode</th>\n",
       "    </tr>\n",
       "  </thead>\n",
       "  <tbody>\n",
       "    <tr>\n",
       "      <th>count</th>\n",
       "      <td>7143.000000</td>\n",
       "      <td>7143.000000</td>\n",
       "      <td>7143.000000</td>\n",
       "      <td>7143.000000</td>\n",
       "      <td>7143.000000</td>\n",
       "      <td>7143.000000</td>\n",
       "      <td>7143.000000</td>\n",
       "      <td>7143.000000</td>\n",
       "      <td>7143.000000</td>\n",
       "      <td>7143.000000</td>\n",
       "      <td>7143.000000</td>\n",
       "      <td>7143.000000</td>\n",
       "    </tr>\n",
       "    <tr>\n",
       "      <th>mean</th>\n",
       "      <td>0.438320</td>\n",
       "      <td>0.421650</td>\n",
       "      <td>0.477782</td>\n",
       "      <td>0.477257</td>\n",
       "      <td>0.701837</td>\n",
       "      <td>0.065801</td>\n",
       "      <td>0.515192</td>\n",
       "      <td>0.308702</td>\n",
       "      <td>0.209258</td>\n",
       "      <td>0.359005</td>\n",
       "      <td>0.525378</td>\n",
       "      <td>0.676046</td>\n",
       "    </tr>\n",
       "    <tr>\n",
       "      <th>std</th>\n",
       "      <td>0.081620</td>\n",
       "      <td>0.224826</td>\n",
       "      <td>0.219627</td>\n",
       "      <td>0.297521</td>\n",
       "      <td>0.180076</td>\n",
       "      <td>0.071441</td>\n",
       "      <td>0.381924</td>\n",
       "      <td>0.401518</td>\n",
       "      <td>0.195412</td>\n",
       "      <td>0.274434</td>\n",
       "      <td>0.174052</td>\n",
       "      <td>0.468015</td>\n",
       "    </tr>\n",
       "    <tr>\n",
       "      <th>min</th>\n",
       "      <td>0.000000</td>\n",
       "      <td>0.000000</td>\n",
       "      <td>0.000000</td>\n",
       "      <td>0.000000</td>\n",
       "      <td>0.000000</td>\n",
       "      <td>0.000000</td>\n",
       "      <td>0.000000</td>\n",
       "      <td>0.000000</td>\n",
       "      <td>0.000000</td>\n",
       "      <td>0.000000</td>\n",
       "      <td>0.000000</td>\n",
       "      <td>0.000000</td>\n",
       "    </tr>\n",
       "    <tr>\n",
       "      <th>25%</th>\n",
       "      <td>0.402446</td>\n",
       "      <td>0.269663</td>\n",
       "      <td>0.302000</td>\n",
       "      <td>0.220000</td>\n",
       "      <td>0.555556</td>\n",
       "      <td>0.034650</td>\n",
       "      <td>0.105500</td>\n",
       "      <td>0.000001</td>\n",
       "      <td>0.098400</td>\n",
       "      <td>0.108500</td>\n",
       "      <td>0.444444</td>\n",
       "      <td>0.000000</td>\n",
       "    </tr>\n",
       "    <tr>\n",
       "      <th>50%</th>\n",
       "      <td>0.443685</td>\n",
       "      <td>0.438202</td>\n",
       "      <td>0.504000</td>\n",
       "      <td>0.481000</td>\n",
       "      <td>0.777778</td>\n",
       "      <td>0.043300</td>\n",
       "      <td>0.557000</td>\n",
       "      <td>0.003090</td>\n",
       "      <td>0.123000</td>\n",
       "      <td>0.312000</td>\n",
       "      <td>0.555556</td>\n",
       "      <td>1.000000</td>\n",
       "    </tr>\n",
       "    <tr>\n",
       "      <th>75%</th>\n",
       "      <td>0.480905</td>\n",
       "      <td>0.595506</td>\n",
       "      <td>0.650000</td>\n",
       "      <td>0.734000</td>\n",
       "      <td>0.777778</td>\n",
       "      <td>0.062300</td>\n",
       "      <td>0.914000</td>\n",
       "      <td>0.813000</td>\n",
       "      <td>0.248000</td>\n",
       "      <td>0.573500</td>\n",
       "      <td>0.666667</td>\n",
       "      <td>1.000000</td>\n",
       "    </tr>\n",
       "    <tr>\n",
       "      <th>max</th>\n",
       "      <td>1.000000</td>\n",
       "      <td>1.000000</td>\n",
       "      <td>0.958000</td>\n",
       "      <td>1.000000</td>\n",
       "      <td>1.000000</td>\n",
       "      <td>0.889000</td>\n",
       "      <td>0.996000</td>\n",
       "      <td>1.000000</td>\n",
       "      <td>1.000000</td>\n",
       "      <td>0.988000</td>\n",
       "      <td>1.000000</td>\n",
       "      <td>1.000000</td>\n",
       "    </tr>\n",
       "  </tbody>\n",
       "</table>\n",
       "</div>"
      ],
      "text/plain": [
       "       duration_ms   popularity  danceability       energy     loudness  \\\n",
       "count  7143.000000  7143.000000   7143.000000  7143.000000  7143.000000   \n",
       "mean      0.438320     0.421650      0.477782     0.477257     0.701837   \n",
       "std       0.081620     0.224826      0.219627     0.297521     0.180076   \n",
       "min       0.000000     0.000000      0.000000     0.000000     0.000000   \n",
       "25%       0.402446     0.269663      0.302000     0.220000     0.555556   \n",
       "50%       0.443685     0.438202      0.504000     0.481000     0.777778   \n",
       "75%       0.480905     0.595506      0.650000     0.734000     0.777778   \n",
       "max       1.000000     1.000000      0.958000     1.000000     1.000000   \n",
       "\n",
       "       speechiness  acousticness  instrumentalness     liveness      valence  \\\n",
       "count  7143.000000   7143.000000       7143.000000  7143.000000  7143.000000   \n",
       "mean      0.065801      0.515192          0.308702     0.209258     0.359005   \n",
       "std       0.071441      0.381924          0.401518     0.195412     0.274434   \n",
       "min       0.000000      0.000000          0.000000     0.000000     0.000000   \n",
       "25%       0.034650      0.105500          0.000001     0.098400     0.108500   \n",
       "50%       0.043300      0.557000          0.003090     0.123000     0.312000   \n",
       "75%       0.062300      0.914000          0.813000     0.248000     0.573500   \n",
       "max       0.889000      0.996000          1.000000     1.000000     0.988000   \n",
       "\n",
       "             tempo         mode  \n",
       "count  7143.000000  7143.000000  \n",
       "mean      0.525378     0.676046  \n",
       "std       0.174052     0.468015  \n",
       "min       0.000000     0.000000  \n",
       "25%       0.444444     0.000000  \n",
       "50%       0.555556     1.000000  \n",
       "75%       0.666667     1.000000  \n",
       "max       1.000000     1.000000  "
      ]
     },
     "execution_count": 56,
     "metadata": {},
     "output_type": "execute_result"
    }
   ],
   "source": [
    "# Discretize the loudness column into 10 bins, normalised within 0 and 1\n",
    "tracks['loudness'] = pd.cut(tracks['loudness'], 10, labels=False)\n",
    "tracks['loudness'] = MinMaxScaler().fit_transform(tracks[['loudness']])\n",
    "\n",
    "# Discretize the tempo column into 10 bins, normalised within 0 and 1\n",
    "tracks['tempo'] = pd.cut(tracks['tempo'], 10, labels=False)\n",
    "tracks['tempo'] = MinMaxScaler().fit_transform(tracks[['tempo']])\n",
    "\n",
    "# Normalise the duration_ms column through the use of log transformation, then normalise within 0 and 1\n",
    "tracks['duration_ms'] = np.log(tracks['duration_ms'])\n",
    "tracks['duration_ms'] = MinMaxScaler().fit_transform(tracks[['duration_ms']])\n",
    "\n",
    "# Normalise the popularity column through MinMaxScaler\n",
    "tracks['popularity'] = MinMaxScaler().fit_transform(tracks[['popularity']])\n",
    "\n",
    "# Describe the dataset\n",
    "tracks.describe()"
   ]
  },
  {
   "cell_type": "markdown",
   "metadata": {},
   "source": [
    "Next, we make sure each of the genres has 500 sample exactly."
   ]
  },
  {
   "cell_type": "code",
   "execution_count": 57,
   "metadata": {},
   "outputs": [
    {
     "data": {
      "text/plain": [
       "track_genre\n",
       "ambient        522\n",
       "chill          522\n",
       "classical      522\n",
       "club           522\n",
       "country        522\n",
       "electronic     522\n",
       "k-pop          522\n",
       "opera          522\n",
       "rock-n-roll    522\n",
       "sleep          522\n",
       "Name: count, dtype: int64"
      ]
     },
     "execution_count": 57,
     "metadata": {},
     "output_type": "execute_result"
    }
   ],
   "source": [
    "# Drop individual rows until the number of tracks per genre is equal\n",
    "tracks = tracks.groupby('track_genre').apply(lambda x: x.sample(tracks.track_genre.value_counts().min(), random_state=42).reset_index(drop=True))\n",
    "tracks.track_genre.value_counts()"
   ]
  },
  {
   "cell_type": "markdown",
   "metadata": {},
   "source": [
    "## Data Modelling <a class=\"anchor\" id=\"data-modelling\"></a>\n",
    "\n",
    "Placeholder"
   ]
  },
  {
   "cell_type": "code",
   "execution_count": 58,
   "metadata": {},
   "outputs": [
    {
     "name": "stdout",
     "output_type": "stream",
     "text": [
      "Random Forest Classifier\n",
      "Accuracy: 0.7873563218390804\n",
      "Confusion Matrix: \n",
      "[[ 77   4   2   3   0   0   0   9   0   9]\n",
      " [  7  87   0   3   1   4   3   0   1   0]\n",
      " [  2   0  74   1   0   4   0   1   7   1]\n",
      " [  0   3   0  80   1  15   2   3   1   1]\n",
      " [  0   6   0   0  79   7   9   0   1   1]\n",
      " [  1   8   1  17   2  60   6   0   7   0]\n",
      " [  1  11   0   2   3   4  92   1   0   0]\n",
      " [  8   3   6   0   3   0   0  89   2   2]\n",
      " [  1   1   1   1   2   3   2   0  83   0]\n",
      " [  1   0   9   0   0   0   0   1   0 101]]\n",
      "Classification Report: \n",
      "              precision    recall  f1-score   support\n",
      "\n",
      "     ambient       0.79      0.74      0.76       104\n",
      "       chill       0.71      0.82      0.76       106\n",
      "   classical       0.80      0.82      0.81        90\n",
      "        club       0.75      0.75      0.75       106\n",
      "     country       0.87      0.77      0.81       103\n",
      "  electronic       0.62      0.59      0.60       102\n",
      "       k-pop       0.81      0.81      0.81       114\n",
      "       opera       0.86      0.79      0.82       113\n",
      " rock-n-roll       0.81      0.88      0.85        94\n",
      "       sleep       0.88      0.90      0.89       112\n",
      "\n",
      "    accuracy                           0.79      1044\n",
      "   macro avg       0.79      0.79      0.79      1044\n",
      "weighted avg       0.79      0.79      0.79      1044\n",
      "\n"
     ]
    }
   ],
   "source": [
    "# Train test split\n",
    "X = tracks.drop('track_genre', axis=1)\n",
    "y = tracks['track_genre']\n",
    "\n",
    "X_train, X_test, y_train, y_test = train_test_split(X, y, test_size=0.2, random_state=101)\n",
    "\n",
    "# Random Forest Classifier\n",
    "rfc = RandomForestClassifier(n_estimators=100)\n",
    "rfc.fit(X_train, y_train)\n",
    "rfc_pred = rfc.predict(X_test)\n",
    "\n",
    "print('Random Forest Classifier')\n",
    "print('Accuracy: {}'.format(accuracy_score(y_test, rfc_pred)))\n",
    "print('Confusion Matrix: \\n{}'.format(confusion_matrix(y_test, rfc_pred)))\n",
    "print('Classification Report: \\n{}'.format(classification_report(y_test, rfc_pred)))\n"
   ]
  }
 ],
 "metadata": {
  "kernelspec": {
   "display_name": "data-mining",
   "language": "python",
   "name": "python3"
  },
  "language_info": {
   "codemirror_mode": {
    "name": "ipython",
    "version": 3
   },
   "file_extension": ".py",
   "mimetype": "text/x-python",
   "name": "python",
   "nbconvert_exporter": "python",
   "pygments_lexer": "ipython3",
   "version": "3.10.12"
  },
  "orig_nbformat": 4
 },
 "nbformat": 4,
 "nbformat_minor": 2
}
