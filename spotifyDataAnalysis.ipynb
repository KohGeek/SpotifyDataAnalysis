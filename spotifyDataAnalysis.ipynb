{
 "cells": [
  {
   "cell_type": "code",
   "execution_count": null,
   "metadata": {},
   "outputs": [],
   "source": [
    "import string\n",
    "\n",
    "import pandas as pd\n",
    "import numpy as np\n",
    "import matplotlib.pyplot as plt\n",
    "import seaborn as sns\n",
    "\n",
    "from sklearn.preprocessing import MultiLabelBinarizer"
   ]
  },
  {
   "cell_type": "code",
   "execution_count": null,
   "metadata": {},
   "outputs": [],
   "source": [
    "sns.set(style=\"darkgrid\")\n",
    "\n",
    "# Set display options to show all columns\n",
    "pd.set_option('display.max_columns', None)\n",
    "pd.set_option('display.max_colwidth', None)\n",
    "\n",
    "# Set printing options to show all elements\n",
    "np.set_printoptions(threshold=np.inf)"
   ]
  },
  {
   "cell_type": "code",
   "execution_count": null,
   "metadata": {},
   "outputs": [],
   "source": [
    "dataset = pd.read_csv('csvs/dataset.csv')"
   ]
  },
  {
   "cell_type": "code",
   "execution_count": null,
   "metadata": {},
   "outputs": [],
   "source": [
    "# 1. Get a brief information on the data.\n",
    "dataset.columns.values[0] = 'index'\n",
    "\n",
    "print('\\nThe columns are:  ')\n",
    "print(dataset.columns)\n",
    "\n",
    "print('\\nNumber of X tuples = {}'.format(dataset.shape[0]))\n",
    "\n",
    "print('\\n')\n",
    "print(dataset.info())\n",
    "print('\\n')\n",
    "print(dataset.head())"
   ]
  },
  {
   "cell_type": "code",
   "execution_count": null,
   "metadata": {},
   "outputs": [],
   "source": [
    "# 2. Get all possible genre value\n",
    "print('number of genre : {}'.format(dataset.track_genre.nunique()))\n",
    "print(dataset.track_genre.unique())"
   ]
  },
  {
   "cell_type": "code",
   "execution_count": null,
   "metadata": {},
   "outputs": [],
   "source": [
    "'''\n",
    "3. Begin data preprocessing\n",
    "'''\n",
    "# Normalize data between [0-1]\n",
    "def minMax_normalization(column):\n",
    "    clean_dataset[column] = (clean_dataset[column] - clean_dataset[column].min()) / (clean_dataset[column].max() - clean_dataset[column].min())\n",
    "    return clean_dataset[column]    \n",
    "\n",
    "# Drop the row where track_name = null\n",
    "dataset.drop(dataset.index[dataset['track_name'].isnull()], inplace=True)   \n",
    "\n",
    "# Operate on second set of data\n",
    "clean_dataset=dataset.copy()\n",
    "\n",
    "# Sort by popularity first, so when we drop duplicate we drop lower popularity\n",
    "# Drop duplicate if track_name, duration_ms, artists and track_genre are all the same\n",
    "clean_dataset.sort_values(by=['popularity'],ascending=False,inplace=True)\n",
    "clean_dataset.drop_duplicates(subset=['track_name','duration_ms','artists','track_genre'],inplace=True)\n",
    "\n",
    "# If track_name, duration_ms and artists are same, but genre is different, aggregate the genre\n",
    "clean_dataset = clean_dataset.groupby(['track_name','duration_ms','artists'],as_index=False).agg({'track_genre':lambda x: ','.join(x),\n",
    "                                                                                                  'index': 'first',\n",
    "                                                                                                  'track_id': 'first',\n",
    "                                                                                                  'popularity': 'max',\n",
    "                                                                                                  'explicit': 'first',\n",
    "                                                                                                  'danceability': 'first',\n",
    "                                                                                                  'energy': 'first',\n",
    "                                                                                                  'loudness': 'first',\n",
    "                                                                                                  'speechiness': 'first',\n",
    "                                                                                                  'acousticness': 'first',\n",
    "                                                                                                  'instrumentalness': 'first',\n",
    "                                                                                                  'liveness': 'first',\n",
    "                                                                                                  'valence': 'first',\n",
    "                                                                                                  'tempo': 'first',\n",
    "                                                                                                  'key': 'first',\n",
    "                                                                                                  'mode': 'first'})\n",
    "\n",
    "\n",
    "# Drop the song where genre is sleep only, since those song target ASMR audiences\n",
    "clean_dataset.drop(clean_dataset.index[clean_dataset['track_genre'] == 'sleep'], inplace=True)\n",
    "\n",
    "# Remove row where tempo is 0\n",
    "clean_dataset.drop(clean_dataset.index[clean_dataset['tempo'] == 0], inplace=True)\n",
    "\n",
    "# Normalise popularity column\n",
    "minMax_normalization('popularity')\n",
    "\n",
    "# Binarise explicit column to 0 and 1, if unknown, set to null\n",
    "clean_dataset['explicit'] = clean_dataset['explicit'].apply(lambda x: 1 if x == 1 else (0 if x == 0 else None))\n",
    "\n",
    "# Rearrange the columns\n",
    "clean_dataset = clean_dataset[['track_id','track_name','artists','duration_ms','popularity','track_genre','explicit','danceability','energy','loudness','speechiness','acousticness','instrumentalness','liveness','valence','tempo', 'key', 'mode']]\n",
    "clean_dataset.reset_index(inplace=True)\n",
    "print(clean_dataset.info())"
   ]
  },
  {
   "cell_type": "code",
   "execution_count": null,
   "metadata": {},
   "outputs": [],
   "source": [
    "# Export the processed data to csv\n",
    "clean_dataset.to_csv('csvs/clean_data.csv',index=False)"
   ]
  },
  {
   "cell_type": "code",
   "execution_count": null,
   "metadata": {},
   "outputs": [],
   "source": [
    "# Sort the popularity with more than 95 scores in descending order\n",
    "clean_dataset.describe().transpose()\n",
    "popular_song = clean_dataset.query('popularity>=0.95', inplace=False).sort_values('popularity',ascending=False)\n",
    "print(popular_song)"
   ]
  },
  {
   "cell_type": "code",
   "execution_count": null,
   "metadata": {},
   "outputs": [],
   "source": [
    "# Sort the popularity and genre to determine the most popular genres.\n",
    "# Genre is stored as an array from previous processing.\n",
    "genre_popularity = clean_dataset.copy()\n",
    "genre_popularity['track_genre'] = genre_popularity['track_genre'].apply(lambda x: x.split(','))\n",
    "genre_popularity = genre_popularity.explode('track_genre')\n",
    "print(genre_popularity.info())"
   ]
  },
  {
   "cell_type": "code",
   "execution_count": null,
   "metadata": {},
   "outputs": [],
   "source": [
    "# Calculate the average popularity for each genre and sorts them in descending order. \n",
    "avg_popularity_genre = genre_popularity.groupby('track_genre')['popularity'].mean()\n",
    "avg_popularity_genre_sorted = avg_popularity_genre.sort_values(ascending=False)\n",
    "most_popular_genres = avg_popularity_genre_sorted.head(10)"
   ]
  },
  {
   "cell_type": "code",
   "execution_count": null,
   "metadata": {},
   "outputs": [],
   "source": [
    "# Histogram showing the average popularity per genre\n",
    "plt.figure(figsize=(10,6))\n",
    "sns.barplot(x=most_popular_genres.index, y=most_popular_genres.values, palette=\"hls\")\n",
    "plt.title(\"Average Popularity per Genre\")\n",
    "plt.xlabel('Genre')\n",
    "plt.ylabel('Average Popularity')\n",
    "plt.xticks(rotation=90)\n",
    "plt.tight_layout()\n",
    "plt.show()"
   ]
  },
  {
   "cell_type": "code",
   "execution_count": null,
   "metadata": {},
   "outputs": [],
   "source": [
    "# Truncate genre_popularity to only include the most popular genres, and list from most popular to least popular\n",
    "genre_popularity.loc[genre_popularity['track_genre'].isin(most_popular_genres.index)]\n",
    "\n",
    "# Energy distribution in different genres \n",
    "plt.figure(figsize=(10, 6))\n",
    "\n",
    "# Box plot or violin plot for high energy genres\n",
    "sns.boxplot(x='track_genre', y='energy', data=genre_popularity[genre_popularity['track_genre'].isin(most_popular_genres.index)], palette=\"hls\")\n",
    "plt.title(\"Distribution of Energy in High Energy Genres\")\n",
    "plt.xlabel(\"Genre\")\n",
    "plt.ylabel(\"Energy\")\n",
    "plt.xticks(rotation=90)\n",
    "\n",
    "plt.show()"
   ]
  },
  {
   "cell_type": "code",
   "execution_count": null,
   "metadata": {},
   "outputs": [],
   "source": [
    "# Correlation between energy and popularity\n",
    "plt.figure(figsize=(10, 8))\n",
    "sns.scatterplot(x='energy', y='popularity', hue='track_genre', data=genre_popularity[genre_popularity['track_genre'].isin(most_popular_genres.index)], alpha=0.1, palette='hls')\n",
    "plt.title(\"Energy vs. Popularity by Genre\")\n",
    "plt.xlabel(\"Energy\")\n",
    "plt.ylabel(\"Popularity\")\n",
    "plt.show()"
   ]
  },
  {
   "cell_type": "code",
   "execution_count": null,
   "metadata": {},
   "outputs": [],
   "source": [
    "# Correlation between valence and energy\n",
    "plt.figure(figsize=(10, 8))\n",
    "sns.scatterplot(x='valence', y='danceability', hue='track_genre', data=genre_popularity[genre_popularity['track_genre'].isin(most_popular_genres.index)], alpha=0.1, palette='hls')\n",
    "plt.title(\"Valence vs. Danceability\")\n",
    "plt.xlabel(\"Valence\")\n",
    "plt.ylabel(\"Danceability\")\n",
    "plt.show()"
   ]
  },
  {
   "cell_type": "code",
   "execution_count": null,
   "metadata": {},
   "outputs": [],
   "source": [
    "# Correlation between energy vs tempo\n",
    "plt.figure(figsize=(10, 8))\n",
    "sns.scatterplot(x='energy', y='tempo', hue='track_genre', data=genre_popularity[genre_popularity['track_genre'].isin(most_popular_genres.index)], alpha=0.1, palette='hls')\n",
    "plt.title(\"Energy vs. Tempo\")\n",
    "plt.xlabel(\"Energy\")\n",
    "plt.ylabel(\"Tempo\")\n",
    "plt.show()"
   ]
  },
  {
   "cell_type": "code",
   "execution_count": null,
   "metadata": {},
   "outputs": [],
   "source": [
    "# Truncate genre_popularity to only include the most popular genres, and list from most popular to least popular\n",
    "genre_popularity.loc[genre_popularity['track_genre'].isin(most_popular_genres.index)]\n",
    "\n",
    "# Energy distribution in different genres \n",
    "plt.figure(figsize=(10, 6))\n",
    "\n",
    "# Box plot or violin plot for high energy genres\n",
    "sns.boxplot(x='mode', y='valence', data=genre_popularity, palette=\"hls\")\n",
    "plt.title(\"Distribution of valence through mode\")\n",
    "plt.xlabel(\"Mode\")\n",
    "plt.ylabel(\"Valence\")\n",
    "plt.xticks(rotation=90)\n",
    "\n",
    "plt.show()"
   ]
  },
  {
   "cell_type": "code",
   "execution_count": null,
   "metadata": {},
   "outputs": [],
   "source": [
    "# Truncate genre_popularity to only include the most popular genres, and list from most popular to least popular\n",
    "genre_popularity.loc[genre_popularity['track_genre'].isin(most_popular_genres.index)]\n",
    "\n",
    "# Energy distribution in different genres \n",
    "plt.figure(figsize=(10, 6))\n",
    "\n",
    "# Box plot or violin plot for high energy genres\n",
    "sns.boxplot(x='key', y='track_genre', data=genre_popularity, palette=\"hls\")\n",
    "plt.title(\"Distribution of key in genres\")\n",
    "plt.xlabel(\"Key\")\n",
    "plt.ylabel(\"Track Genre\")\n",
    "plt.xticks(rotation=90)\n",
    "\n",
    "plt.show()"
   ]
  },
  {
   "cell_type": "code",
   "execution_count": null,
   "metadata": {},
   "outputs": [],
   "source": [
    "# Truncate genre_popularity to only include the most popular genres, and list from most popular to least popular\n",
    "genre_popularity.loc[genre_popularity['track_genre'].isin(most_popular_genres.index)]\n",
    "\n",
    "# Energy distribution in different genres \n",
    "plt.figure(figsize=(10, 6))\n",
    "\n",
    "# Box plot or violin plot for each genre's instrumentality\n",
    "sns.boxplot(x='track_genre', y='instrumentalness', data=genre_popularity, palette=\"hls\")\n",
    "plt.title(\"Distribution of instrumentalness within genres\")\n",
    "plt.xlabel(\"Genre\")\n",
    "plt.ylabel(\"Instrumentalness\")\n",
    "plt.xticks(rotation=90)\n",
    "\n",
    "plt.show()"
   ]
  }
 ],
 "metadata": {
  "kernelspec": {
   "display_name": "data-mining",
   "language": "python",
   "name": "python3"
  },
  "language_info": {
   "codemirror_mode": {
    "name": "ipython",
    "version": 3
   },
   "file_extension": ".py",
   "mimetype": "text/x-python",
   "name": "python",
   "nbconvert_exporter": "python",
   "pygments_lexer": "ipython3",
   "version": "3.10.12"
  }
 },
 "nbformat": 4,
 "nbformat_minor": 2
}
