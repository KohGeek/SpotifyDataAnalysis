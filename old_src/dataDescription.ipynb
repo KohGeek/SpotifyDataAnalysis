{
 "cells": [
  {
   "cell_type": "code",
   "execution_count": null,
   "id": "b6ac6891",
   "metadata": {},
   "outputs": [],
   "source": [
    "# Import library\n",
    "import pandas as pd\n",
    "import seaborn as sns\n",
    "import matplotlib.pyplot as plt\n",
    "import numpy as np"
   ]
  },
  {
   "cell_type": "code",
   "execution_count": null,
   "id": "243e4713",
   "metadata": {},
   "outputs": [],
   "source": [
    "# Read file\n",
    "spotify = pd.read_csv(\"dataset.csv\")\n",
    "print(spotify.head())"
   ]
  },
  {
   "cell_type": "code",
   "execution_count": null,
   "id": "318ce5d1",
   "metadata": {},
   "outputs": [],
   "source": [
    "# Delete missing value\n",
    "pd.isnull(spotify).sum()\n",
    "spotify.info()\n",
    "spotify = spotify.dropna()"
   ]
  },
  {
   "cell_type": "code",
   "execution_count": null,
   "id": "bf22907c",
   "metadata": {},
   "outputs": [],
   "source": [
    "# Check and delete the duplicate rows\n",
    "duplicateID = spotify[spotify.duplicated(subset=['track_id'])]\n",
    "clear_duplicate = spotify.drop_duplicates(subset=\"track_id\", keep='first', inplace=False)\n",
    "clear_duplicate.describe().transpose()"
   ]
  },
  {
   "cell_type": "code",
   "execution_count": null,
   "id": "57733814",
   "metadata": {},
   "outputs": [],
   "source": [
    "# Sort the popularity with more than 95 scores in descending order\n",
    "popular_song = clear_duplicate.query('popularity>=95', inplace=False).sort_values('popularity', ascending=False)\n",
    "popular_song[:10]"
   ]
  },
  {
   "cell_type": "code",
   "execution_count": null,
   "id": "4e54ddbe",
   "metadata": {},
   "outputs": [],
   "source": [
    "# Sort the popularity and genre to determine the most popular genres.\n",
    "popular_genre = clear_duplicate.groupby([clear_duplicate['track_genre']])['popularity'].mean().sort_values(ascending=False)\n",
    "popular_genre[:10]"
   ]
  },
  {
   "cell_type": "code",
   "execution_count": null,
   "id": "a0bd0c58",
   "metadata": {},
   "outputs": [],
   "source": [
    "# Calculate the average popularity for each genre and sorts them in descending order. \n",
    "avg_popularity_genre= clear_duplicate.groupby('track_genre')['popularity'].mean()\n",
    "avg_popularity_genre_sorted = avg_popularity_genre.sort_values(ascending=False)\n",
    "most_popular_genres = avg_popularity_genre_sorted.head(10)"
   ]
  },
  {
   "cell_type": "code",
   "execution_count": null,
   "id": "9095efad",
   "metadata": {},
   "outputs": [],
   "source": [
    "# Histogram showing the average popularity per genre\n",
    "plt.figure(figsize=(10,6))\n",
    "sns.barplot(x=most_popular_genres.index, y=most_popular_genres.values, palette=\"hls\")\n",
    "plt.title(\"Average Popularity per Genre\")\n",
    "plt.xlabel('Genre')\n",
    "plt.ylabel('Average Popularity')\n",
    "plt.xticks(rotation=90)\n",
    "plt.tight_layout()\n",
    "plt.show()"
   ]
  },
  {
   "cell_type": "code",
   "execution_count": null,
   "id": "ecb4ea57",
   "metadata": {},
   "outputs": [],
   "source": [
    "# Energy distribution in different genres \n",
    "high_energy_genres = top_genres.head(10)  # Select the top 10 genres with highest popularity\n",
    "\n",
    "plt.figure(figsize=(10, 6))\n",
    "\n",
    "# Box plot or violin plot for high energy genres\n",
    "sns.boxplot(x=clear_duplicate[clear_duplicate['track_genre'].isin(high_energy_genres.index)]['track_genre'], y='energy', data=clear_duplicate, palette=\"husl\")\n",
    "plt.title(\"Distribution of Energy in High Energy Genres\")\n",
    "plt.xlabel(\"Genre\")\n",
    "plt.ylabel(\"Energy\")\n",
    "plt.xticks(rotation=90)\n",
    "\n",
    "\n",
    "plt.show()"
   ]
  },
  {
   "cell_type": "code",
   "execution_count": null,
   "id": "5dffbd81",
   "metadata": {},
   "outputs": [],
   "source": [
    "# Correlation between energy and popularity\n",
    "plt.figure(figsize=(10, 8))\n",
    "sns.scatterplot(x='energy', y='popularity', hue='track_genre', data=clear_duplicate[clear_duplicate['track_genre'].isin(top_genres.index)], alpha=0.7, palette='hls')\n",
    "plt.title(\"Energy vs. Popularity by Genre\")\n",
    "plt.xlabel(\"Energy\")\n",
    "plt.ylabel(\"Popularity\")\n",
    "plt.show()"
   ]
  },
  {
   "cell_type": "code",
   "execution_count": null,
   "id": "70edae15",
   "metadata": {},
   "outputs": [],
   "source": []
  }
 ],
 "metadata": {
  "kernelspec": {
   "display_name": "Python 3 (ipykernel)",
   "language": "python",
   "name": "python3"
  },
  "language_info": {
   "codemirror_mode": {
    "name": "ipython",
    "version": 3
   },
   "file_extension": ".py",
   "mimetype": "text/x-python",
   "name": "python",
   "nbconvert_exporter": "python",
   "pygments_lexer": "ipython3",
   "version": "3.10.9"
  }
 },
 "nbformat": 4,
 "nbformat_minor": 5
}
